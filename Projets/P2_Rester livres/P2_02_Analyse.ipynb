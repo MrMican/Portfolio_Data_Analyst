{
 "cells": [
  {
   "cell_type": "code",
   "execution_count": 1,
   "metadata": {},
   "outputs": [],
   "source": [
    "import pandas\n",
    "import matplotlib.pyplot as plt \n",
    "import numpy as np\n",
    "import datetime \n",
    "import seaborn as sns"
   ]
  },
  {
   "cell_type": "code",
   "execution_count": 2,
   "metadata": {},
   "outputs": [],
   "source": [
    "df_j = pandas.read_csv(\"DataClean.csv\")"
   ]
  },
  {
   "cell_type": "markdown",
   "metadata": {},
   "source": [
    "# Analyse des données \n",
    "\n",
    "## Création d'une Data Frame Chiffre d'affaires"
   ]
  },
  {
   "cell_type": "code",
   "execution_count": 3,
   "metadata": {},
   "outputs": [
    {
     "data": {
      "text/html": [
       "<div>\n",
       "<style scoped>\n",
       "    .dataframe tbody tr th:only-of-type {\n",
       "        vertical-align: middle;\n",
       "    }\n",
       "\n",
       "    .dataframe tbody tr th {\n",
       "        vertical-align: top;\n",
       "    }\n",
       "\n",
       "    .dataframe thead th {\n",
       "        text-align: right;\n",
       "    }\n",
       "</style>\n",
       "<table border=\"1\" class=\"dataframe\">\n",
       "  <thead>\n",
       "    <tr style=\"text-align: right;\">\n",
       "      <th></th>\n",
       "      <th>date</th>\n",
       "      <th>price</th>\n",
       "    </tr>\n",
       "  </thead>\n",
       "  <tbody>\n",
       "    <tr>\n",
       "      <th>0</th>\n",
       "      <td>2021-06-11 21:02:39.382765</td>\n",
       "      <td>19.53</td>\n",
       "    </tr>\n",
       "    <tr>\n",
       "      <th>1</th>\n",
       "      <td>2021-07-21 22:41:38.769525</td>\n",
       "      <td>11.99</td>\n",
       "    </tr>\n",
       "    <tr>\n",
       "      <th>2</th>\n",
       "      <td>2021-07-25 12:17:34.446678</td>\n",
       "      <td>12.30</td>\n",
       "    </tr>\n",
       "    <tr>\n",
       "      <th>3</th>\n",
       "      <td>2021-07-26 17:37:29.438136</td>\n",
       "      <td>18.94</td>\n",
       "    </tr>\n",
       "    <tr>\n",
       "      <th>4</th>\n",
       "      <td>2021-07-27 10:30:00.293075</td>\n",
       "      <td>11.99</td>\n",
       "    </tr>\n",
       "    <tr>\n",
       "      <th>...</th>\n",
       "      <td>...</td>\n",
       "      <td>...</td>\n",
       "    </tr>\n",
       "    <tr>\n",
       "      <th>336811</th>\n",
       "      <td>2022-01-16 23:40:14.387888</td>\n",
       "      <td>15.99</td>\n",
       "    </tr>\n",
       "    <tr>\n",
       "      <th>336812</th>\n",
       "      <td>2022-01-19 09:10:14.900805</td>\n",
       "      <td>16.94</td>\n",
       "    </tr>\n",
       "    <tr>\n",
       "      <th>336813</th>\n",
       "      <td>2022-01-24 09:39:50.831782</td>\n",
       "      <td>20.99</td>\n",
       "    </tr>\n",
       "    <tr>\n",
       "      <th>336814</th>\n",
       "      <td>2022-02-02 08:11:55.764086</td>\n",
       "      <td>4.99</td>\n",
       "    </tr>\n",
       "    <tr>\n",
       "      <th>336815</th>\n",
       "      <td>2022-02-22 22:55:44.758949</td>\n",
       "      <td>19.49</td>\n",
       "    </tr>\n",
       "  </tbody>\n",
       "</table>\n",
       "<p>336816 rows × 2 columns</p>\n",
       "</div>"
      ],
      "text/plain": [
       "                              date  price\n",
       "0       2021-06-11 21:02:39.382765  19.53\n",
       "1       2021-07-21 22:41:38.769525  11.99\n",
       "2       2021-07-25 12:17:34.446678  12.30\n",
       "3       2021-07-26 17:37:29.438136  18.94\n",
       "4       2021-07-27 10:30:00.293075  11.99\n",
       "...                            ...    ...\n",
       "336811  2022-01-16 23:40:14.387888  15.99\n",
       "336812  2022-01-19 09:10:14.900805  16.94\n",
       "336813  2022-01-24 09:39:50.831782  20.99\n",
       "336814  2022-02-02 08:11:55.764086   4.99\n",
       "336815  2022-02-22 22:55:44.758949  19.49\n",
       "\n",
       "[336816 rows x 2 columns]"
      ]
     },
     "execution_count": 3,
     "metadata": {},
     "output_type": "execute_result"
    }
   ],
   "source": [
    "df_CA = df_j[['date','price']]\n",
    "df_CA"
   ]
  },
  {
   "cell_type": "code",
   "execution_count": 4,
   "metadata": {},
   "outputs": [
    {
     "name": "stderr",
     "output_type": "stream",
     "text": [
      "<ipython-input-4-f7e49f23b1c4>:1: SettingWithCopyWarning: \n",
      "A value is trying to be set on a copy of a slice from a DataFrame.\n",
      "Try using .loc[row_indexer,col_indexer] = value instead\n",
      "\n",
      "See the caveats in the documentation: https://pandas.pydata.org/pandas-docs/stable/user_guide/indexing.html#returning-a-view-versus-a-copy\n",
      "  df_CA['date']= pandas.to_datetime(df_CA['date'])\n"
     ]
    },
    {
     "data": {
      "text/html": [
       "<div>\n",
       "<style scoped>\n",
       "    .dataframe tbody tr th:only-of-type {\n",
       "        vertical-align: middle;\n",
       "    }\n",
       "\n",
       "    .dataframe tbody tr th {\n",
       "        vertical-align: top;\n",
       "    }\n",
       "\n",
       "    .dataframe thead th {\n",
       "        text-align: right;\n",
       "    }\n",
       "</style>\n",
       "<table border=\"1\" class=\"dataframe\">\n",
       "  <thead>\n",
       "    <tr style=\"text-align: right;\">\n",
       "      <th></th>\n",
       "      <th>date</th>\n",
       "      <th>price</th>\n",
       "    </tr>\n",
       "  </thead>\n",
       "  <tbody>\n",
       "    <tr>\n",
       "      <th>0</th>\n",
       "      <td>April 2021</td>\n",
       "      <td>473286.810359</td>\n",
       "    </tr>\n",
       "    <tr>\n",
       "      <th>1</th>\n",
       "      <td>August 2021</td>\n",
       "      <td>479501.962374</td>\n",
       "    </tr>\n",
       "    <tr>\n",
       "      <th>2</th>\n",
       "      <td>December 2021</td>\n",
       "      <td>523090.725179</td>\n",
       "    </tr>\n",
       "    <tr>\n",
       "      <th>3</th>\n",
       "      <td>February 2022</td>\n",
       "      <td>532981.379568</td>\n",
       "    </tr>\n",
       "    <tr>\n",
       "      <th>4</th>\n",
       "      <td>January 2022</td>\n",
       "      <td>523064.627985</td>\n",
       "    </tr>\n",
       "    <tr>\n",
       "      <th>5</th>\n",
       "      <td>July 2021</td>\n",
       "      <td>480986.114388</td>\n",
       "    </tr>\n",
       "    <tr>\n",
       "      <th>6</th>\n",
       "      <td>June 2021</td>\n",
       "      <td>481410.985179</td>\n",
       "    </tr>\n",
       "    <tr>\n",
       "      <th>7</th>\n",
       "      <td>March 2021</td>\n",
       "      <td>479508.802374</td>\n",
       "    </tr>\n",
       "    <tr>\n",
       "      <th>8</th>\n",
       "      <td>May 2021</td>\n",
       "      <td>489542.858777</td>\n",
       "    </tr>\n",
       "    <tr>\n",
       "      <th>9</th>\n",
       "      <td>November 2021</td>\n",
       "      <td>513108.805971</td>\n",
       "    </tr>\n",
       "    <tr>\n",
       "      <th>10</th>\n",
       "      <td>October 2021</td>\n",
       "      <td>319313.005180</td>\n",
       "    </tr>\n",
       "    <tr>\n",
       "      <th>11</th>\n",
       "      <td>September 2021</td>\n",
       "      <td>503033.643165</td>\n",
       "    </tr>\n",
       "  </tbody>\n",
       "</table>\n",
       "</div>"
      ],
      "text/plain": [
       "              date          price\n",
       "0       April 2021  473286.810359\n",
       "1      August 2021  479501.962374\n",
       "2    December 2021  523090.725179\n",
       "3    February 2022  532981.379568\n",
       "4     January 2022  523064.627985\n",
       "5        July 2021  480986.114388\n",
       "6        June 2021  481410.985179\n",
       "7       March 2021  479508.802374\n",
       "8         May 2021  489542.858777\n",
       "9    November 2021  513108.805971\n",
       "10    October 2021  319313.005180\n",
       "11  September 2021  503033.643165"
      ]
     },
     "execution_count": 4,
     "metadata": {},
     "output_type": "execute_result"
    }
   ],
   "source": [
    "df_CA['date']= pandas.to_datetime(df_CA['date'])\n",
    "CA = df_CA.groupby(df_CA['date'].dt.strftime('%B %Y'))['price'].sum().reset_index()\n",
    "CA"
   ]
  },
  {
   "cell_type": "code",
   "execution_count": 5,
   "metadata": {},
   "outputs": [
    {
     "data": {
      "image/png": "[encoded data removed]",
      "text/plain": [
       "<Figure size 1080x360 with 1 Axes>"
      ]
     },
     "metadata": {
      "needs_background": "light"
     },
     "output_type": "display_data"
    }
   ],
   "source": [
    "fig = sns.catplot(x= 'date', y= \"price\", kind=\"bar\", data= CA, height=5, aspect=15/5)\n",
    "fig.savefig('CA.png')"
   ]
  },
  {
   "cell_type": "code",
   "execution_count": 6,
   "metadata": {},
   "outputs": [
    {
     "data": {
      "text/plain": [
       "0.0    18758\n",
       "1.0     1666\n",
       "2.0     1160\n",
       "Name: categ, dtype: int64"
      ]
     },
     "execution_count": 6,
     "metadata": {},
     "output_type": "execute_result"
    }
   ],
   "source": [
    "Otc= df_j[df_j['date'].str.contains('2021-10') == True]\n",
    "Otc['categ'].value_counts()"
   ]
  },
  {
   "cell_type": "code",
   "execution_count": 7,
   "metadata": {},
   "outputs": [
    {
     "data": {
      "text/plain": [
       "0.0    17273\n",
       "1.0    10459\n",
       "2.0     1835\n",
       "Name: categ, dtype: int64"
      ]
     },
     "execution_count": 7,
     "metadata": {},
     "output_type": "execute_result"
    }
   ],
   "source": [
    "fev= df_j[df_j['date'].str.contains('2022-02') == True]\n",
    "fev['categ'].value_counts() "
   ]
  },
  {
   "cell_type": "code",
   "execution_count": 8,
   "metadata": {},
   "outputs": [
    {
     "data": {
      "text/html": [
       "<div>\n",
       "<style scoped>\n",
       "    .dataframe tbody tr th:only-of-type {\n",
       "        vertical-align: middle;\n",
       "    }\n",
       "\n",
       "    .dataframe tbody tr th {\n",
       "        vertical-align: top;\n",
       "    }\n",
       "\n",
       "    .dataframe thead th {\n",
       "        text-align: right;\n",
       "    }\n",
       "</style>\n",
       "<table border=\"1\" class=\"dataframe\">\n",
       "  <thead>\n",
       "    <tr style=\"text-align: right;\">\n",
       "      <th></th>\n",
       "      <th>client_id</th>\n",
       "      <th>sex</th>\n",
       "      <th>birth</th>\n",
       "      <th>id_prod</th>\n",
       "      <th>date</th>\n",
       "      <th>session_id</th>\n",
       "      <th>price</th>\n",
       "      <th>categ</th>\n",
       "      <th>previous_order</th>\n",
       "      <th>days_bw_orders</th>\n",
       "    </tr>\n",
       "  </thead>\n",
       "  <tbody>\n",
       "    <tr>\n",
       "      <th>9</th>\n",
       "      <td>c_1</td>\n",
       "      <td>m</td>\n",
       "      <td>1955.0</td>\n",
       "      <td>2_208</td>\n",
       "      <td>2021-11-04 17:28:13.934070</td>\n",
       "      <td>s_114737</td>\n",
       "      <td>54.87</td>\n",
       "      <td>2.0</td>\n",
       "      <td>2021-10-15 11:28:24.523566</td>\n",
       "      <td>20.0</td>\n",
       "    </tr>\n",
       "    <tr>\n",
       "      <th>34</th>\n",
       "      <td>c_10</td>\n",
       "      <td>m</td>\n",
       "      <td>1956.0</td>\n",
       "      <td>2_43</td>\n",
       "      <td>2021-08-27 03:34:47.280771</td>\n",
       "      <td>s_81194</td>\n",
       "      <td>69.99</td>\n",
       "      <td>2.0</td>\n",
       "      <td>2021-08-19 01:04:24.483501</td>\n",
       "      <td>8.0</td>\n",
       "    </tr>\n",
       "    <tr>\n",
       "      <th>50</th>\n",
       "      <td>c_100</td>\n",
       "      <td>m</td>\n",
       "      <td>1992.0</td>\n",
       "      <td>2_194</td>\n",
       "      <td>2021-06-24 08:55:49.088700</td>\n",
       "      <td>s_53051</td>\n",
       "      <td>138.53</td>\n",
       "      <td>2.0</td>\n",
       "      <td>2021-06-24 08:51:36.962838</td>\n",
       "      <td>0.0</td>\n",
       "    </tr>\n",
       "    <tr>\n",
       "      <th>115</th>\n",
       "      <td>c_1001</td>\n",
       "      <td>m</td>\n",
       "      <td>1982.0</td>\n",
       "      <td>2_2</td>\n",
       "      <td>2021-03-07 14:07:31.004391</td>\n",
       "      <td>s_3041</td>\n",
       "      <td>300.00</td>\n",
       "      <td>2.0</td>\n",
       "      <td>2021-03-07 14:02:12.219679</td>\n",
       "      <td>0.0</td>\n",
       "    </tr>\n",
       "    <tr>\n",
       "      <th>478</th>\n",
       "      <td>c_1009</td>\n",
       "      <td>f</td>\n",
       "      <td>1994.0</td>\n",
       "      <td>2_135</td>\n",
       "      <td>2021-05-08 11:58:28.118851</td>\n",
       "      <td>s_31633</td>\n",
       "      <td>68.99</td>\n",
       "      <td>2.0</td>\n",
       "      <td>2021-03-18 00:42:24.481964</td>\n",
       "      <td>51.0</td>\n",
       "    </tr>\n",
       "    <tr>\n",
       "      <th>...</th>\n",
       "      <td>...</td>\n",
       "      <td>...</td>\n",
       "      <td>...</td>\n",
       "      <td>...</td>\n",
       "      <td>...</td>\n",
       "      <td>...</td>\n",
       "      <td>...</td>\n",
       "      <td>...</td>\n",
       "      <td>...</td>\n",
       "      <td>...</td>\n",
       "    </tr>\n",
       "    <tr>\n",
       "      <th>336777</th>\n",
       "      <td>c_998</td>\n",
       "      <td>m</td>\n",
       "      <td>2001.0</td>\n",
       "      <td>2_140</td>\n",
       "      <td>2021-07-12 23:26:10.238162</td>\n",
       "      <td>s_61485</td>\n",
       "      <td>42.48</td>\n",
       "      <td>2.0</td>\n",
       "      <td>2021-05-26 09:15:46.681210</td>\n",
       "      <td>47.0</td>\n",
       "    </tr>\n",
       "    <tr>\n",
       "      <th>336790</th>\n",
       "      <td>c_998</td>\n",
       "      <td>m</td>\n",
       "      <td>2001.0</td>\n",
       "      <td>2_161</td>\n",
       "      <td>2022-01-10 16:41:14.421592</td>\n",
       "      <td>s_147854</td>\n",
       "      <td>113.99</td>\n",
       "      <td>2.0</td>\n",
       "      <td>2021-12-27 03:33:53.552186</td>\n",
       "      <td>14.0</td>\n",
       "    </tr>\n",
       "    <tr>\n",
       "      <th>336791</th>\n",
       "      <td>c_998</td>\n",
       "      <td>m</td>\n",
       "      <td>2001.0</td>\n",
       "      <td>2_155</td>\n",
       "      <td>2022-01-10 17:43:42.571229</td>\n",
       "      <td>s_147854</td>\n",
       "      <td>46.99</td>\n",
       "      <td>2.0</td>\n",
       "      <td>2022-01-10 16:41:14.421592</td>\n",
       "      <td>0.0</td>\n",
       "    </tr>\n",
       "    <tr>\n",
       "      <th>336792</th>\n",
       "      <td>c_998</td>\n",
       "      <td>m</td>\n",
       "      <td>2001.0</td>\n",
       "      <td>2_0</td>\n",
       "      <td>2022-02-12 22:36:11.694163</td>\n",
       "      <td>s_164207</td>\n",
       "      <td>162.03</td>\n",
       "      <td>2.0</td>\n",
       "      <td>2022-01-10 17:43:42.571229</td>\n",
       "      <td>33.0</td>\n",
       "    </tr>\n",
       "    <tr>\n",
       "      <th>336793</th>\n",
       "      <td>c_998</td>\n",
       "      <td>m</td>\n",
       "      <td>2001.0</td>\n",
       "      <td>2_162</td>\n",
       "      <td>2022-02-23 17:54:34.183475</td>\n",
       "      <td>s_169760</td>\n",
       "      <td>102.82</td>\n",
       "      <td>2.0</td>\n",
       "      <td>2022-02-12 22:36:11.694163</td>\n",
       "      <td>10.0</td>\n",
       "    </tr>\n",
       "  </tbody>\n",
       "</table>\n",
       "<p>17552 rows × 10 columns</p>\n",
       "</div>"
      ],
      "text/plain": [
       "       client_id sex   birth id_prod                        date session_id  \\\n",
       "9            c_1   m  1955.0   2_208  2021-11-04 17:28:13.934070   s_114737   \n",
       "34          c_10   m  1956.0    2_43  2021-08-27 03:34:47.280771    s_81194   \n",
       "50         c_100   m  1992.0   2_194  2021-06-24 08:55:49.088700    s_53051   \n",
       "115       c_1001   m  1982.0     2_2  2021-03-07 14:07:31.004391     s_3041   \n",
       "478       c_1009   f  1994.0   2_135  2021-05-08 11:58:28.118851    s_31633   \n",
       "...          ...  ..     ...     ...                         ...        ...   \n",
       "336777     c_998   m  2001.0   2_140  2021-07-12 23:26:10.238162    s_61485   \n",
       "336790     c_998   m  2001.0   2_161  2022-01-10 16:41:14.421592   s_147854   \n",
       "336791     c_998   m  2001.0   2_155  2022-01-10 17:43:42.571229   s_147854   \n",
       "336792     c_998   m  2001.0     2_0  2022-02-12 22:36:11.694163   s_164207   \n",
       "336793     c_998   m  2001.0   2_162  2022-02-23 17:54:34.183475   s_169760   \n",
       "\n",
       "         price  categ              previous_order  days_bw_orders  \n",
       "9        54.87    2.0  2021-10-15 11:28:24.523566            20.0  \n",
       "34       69.99    2.0  2021-08-19 01:04:24.483501             8.0  \n",
       "50      138.53    2.0  2021-06-24 08:51:36.962838             0.0  \n",
       "115     300.00    2.0  2021-03-07 14:02:12.219679             0.0  \n",
       "478      68.99    2.0  2021-03-18 00:42:24.481964            51.0  \n",
       "...        ...    ...                         ...             ...  \n",
       "336777   42.48    2.0  2021-05-26 09:15:46.681210            47.0  \n",
       "336790  113.99    2.0  2021-12-27 03:33:53.552186            14.0  \n",
       "336791   46.99    2.0  2022-01-10 16:41:14.421592             0.0  \n",
       "336792  162.03    2.0  2022-01-10 17:43:42.571229            33.0  \n",
       "336793  102.82    2.0  2022-02-12 22:36:11.694163            10.0  \n",
       "\n",
       "[17552 rows x 10 columns]"
      ]
     },
     "execution_count": 8,
     "metadata": {},
     "output_type": "execute_result"
    }
   ],
   "source": [
    "co= df_j[df_j['categ']== 2]\n",
    "co"
   ]
  },
  {
   "cell_type": "code",
   "execution_count": 9,
   "metadata": {},
   "outputs": [
    {
     "data": {
      "text/html": [
       "<div>\n",
       "<style scoped>\n",
       "    .dataframe tbody tr th:only-of-type {\n",
       "        vertical-align: middle;\n",
       "    }\n",
       "\n",
       "    .dataframe tbody tr th {\n",
       "        vertical-align: top;\n",
       "    }\n",
       "\n",
       "    .dataframe thead th {\n",
       "        text-align: right;\n",
       "    }\n",
       "</style>\n",
       "<table border=\"1\" class=\"dataframe\">\n",
       "  <thead>\n",
       "    <tr style=\"text-align: right;\">\n",
       "      <th></th>\n",
       "      <th>client_id</th>\n",
       "      <th>sex</th>\n",
       "      <th>birth</th>\n",
       "      <th>id_prod</th>\n",
       "      <th>date</th>\n",
       "      <th>session_id</th>\n",
       "      <th>price</th>\n",
       "      <th>categ</th>\n",
       "      <th>previous_order</th>\n",
       "      <th>days_bw_orders</th>\n",
       "    </tr>\n",
       "  </thead>\n",
       "  <tbody>\n",
       "    <tr>\n",
       "      <th>14</th>\n",
       "      <td>c_1</td>\n",
       "      <td>m</td>\n",
       "      <td>1955.0</td>\n",
       "      <td>1_713</td>\n",
       "      <td>2021-11-15 20:40:00.586010</td>\n",
       "      <td>s_120172</td>\n",
       "      <td>33.99</td>\n",
       "      <td>1.0</td>\n",
       "      <td>2021-11-04 18:37:48.745436</td>\n",
       "      <td>11.0</td>\n",
       "    </tr>\n",
       "    <tr>\n",
       "      <th>15</th>\n",
       "      <td>c_1</td>\n",
       "      <td>m</td>\n",
       "      <td>1955.0</td>\n",
       "      <td>1_364</td>\n",
       "      <td>2021-11-15 20:46:25.222740</td>\n",
       "      <td>s_120172</td>\n",
       "      <td>10.30</td>\n",
       "      <td>1.0</td>\n",
       "      <td>2021-11-15 20:40:00.586010</td>\n",
       "      <td>0.0</td>\n",
       "    </tr>\n",
       "    <tr>\n",
       "      <th>16</th>\n",
       "      <td>c_1</td>\n",
       "      <td>m</td>\n",
       "      <td>1955.0</td>\n",
       "      <td>1_364</td>\n",
       "      <td>2021-12-15 23:32:41.632729</td>\n",
       "      <td>s_134971</td>\n",
       "      <td>10.30</td>\n",
       "      <td>1.0</td>\n",
       "      <td>2021-11-15 20:46:25.222740</td>\n",
       "      <td>30.0</td>\n",
       "    </tr>\n",
       "    <tr>\n",
       "      <th>18</th>\n",
       "      <td>c_1</td>\n",
       "      <td>m</td>\n",
       "      <td>1955.0</td>\n",
       "      <td>1_425</td>\n",
       "      <td>2021-12-25 03:53:43.623598</td>\n",
       "      <td>s_139610</td>\n",
       "      <td>16.99</td>\n",
       "      <td>1.0</td>\n",
       "      <td>2021-12-19 02:44:12.827475</td>\n",
       "      <td>6.0</td>\n",
       "    </tr>\n",
       "    <tr>\n",
       "      <th>20</th>\n",
       "      <td>c_10</td>\n",
       "      <td>m</td>\n",
       "      <td>1956.0</td>\n",
       "      <td>1_27</td>\n",
       "      <td>2021-03-21 02:50:16.551727</td>\n",
       "      <td>s_9259</td>\n",
       "      <td>14.99</td>\n",
       "      <td>1.0</td>\n",
       "      <td>NaN</td>\n",
       "      <td>NaN</td>\n",
       "    </tr>\n",
       "    <tr>\n",
       "      <th>...</th>\n",
       "      <td>...</td>\n",
       "      <td>...</td>\n",
       "      <td>...</td>\n",
       "      <td>...</td>\n",
       "      <td>...</td>\n",
       "      <td>...</td>\n",
       "      <td>...</td>\n",
       "      <td>...</td>\n",
       "      <td>...</td>\n",
       "      <td>...</td>\n",
       "    </tr>\n",
       "    <tr>\n",
       "      <th>336808</th>\n",
       "      <td>c_999</td>\n",
       "      <td>m</td>\n",
       "      <td>1964.0</td>\n",
       "      <td>1_351</td>\n",
       "      <td>2021-11-21 17:16:06.807620</td>\n",
       "      <td>s_122996</td>\n",
       "      <td>28.99</td>\n",
       "      <td>1.0</td>\n",
       "      <td>2021-11-15 17:53:15.077669</td>\n",
       "      <td>5.0</td>\n",
       "    </tr>\n",
       "    <tr>\n",
       "      <th>336809</th>\n",
       "      <td>c_999</td>\n",
       "      <td>m</td>\n",
       "      <td>1964.0</td>\n",
       "      <td>1_727</td>\n",
       "      <td>2021-11-21 17:40:50.856434</td>\n",
       "      <td>s_122996</td>\n",
       "      <td>16.99</td>\n",
       "      <td>1.0</td>\n",
       "      <td>2021-11-21 17:16:06.807620</td>\n",
       "      <td>0.0</td>\n",
       "    </tr>\n",
       "    <tr>\n",
       "      <th>336811</th>\n",
       "      <td>c_999</td>\n",
       "      <td>m</td>\n",
       "      <td>1964.0</td>\n",
       "      <td>1_669</td>\n",
       "      <td>2022-01-16 23:40:14.387888</td>\n",
       "      <td>s_150872</td>\n",
       "      <td>15.99</td>\n",
       "      <td>1.0</td>\n",
       "      <td>2021-12-17 03:28:47.129085</td>\n",
       "      <td>30.0</td>\n",
       "    </tr>\n",
       "    <tr>\n",
       "      <th>336812</th>\n",
       "      <td>c_999</td>\n",
       "      <td>m</td>\n",
       "      <td>1964.0</td>\n",
       "      <td>1_724</td>\n",
       "      <td>2022-01-19 09:10:14.900805</td>\n",
       "      <td>s_152063</td>\n",
       "      <td>16.94</td>\n",
       "      <td>1.0</td>\n",
       "      <td>2022-01-16 23:40:14.387888</td>\n",
       "      <td>2.0</td>\n",
       "    </tr>\n",
       "    <tr>\n",
       "      <th>336813</th>\n",
       "      <td>c_999</td>\n",
       "      <td>m</td>\n",
       "      <td>1964.0</td>\n",
       "      <td>1_247</td>\n",
       "      <td>2022-01-24 09:39:50.831782</td>\n",
       "      <td>s_154462</td>\n",
       "      <td>20.99</td>\n",
       "      <td>1.0</td>\n",
       "      <td>2022-01-19 09:10:14.900805</td>\n",
       "      <td>5.0</td>\n",
       "    </tr>\n",
       "  </tbody>\n",
       "</table>\n",
       "<p>109735 rows × 10 columns</p>\n",
       "</div>"
      ],
      "text/plain": [
       "       client_id sex   birth id_prod                        date session_id  \\\n",
       "14           c_1   m  1955.0   1_713  2021-11-15 20:40:00.586010   s_120172   \n",
       "15           c_1   m  1955.0   1_364  2021-11-15 20:46:25.222740   s_120172   \n",
       "16           c_1   m  1955.0   1_364  2021-12-15 23:32:41.632729   s_134971   \n",
       "18           c_1   m  1955.0   1_425  2021-12-25 03:53:43.623598   s_139610   \n",
       "20          c_10   m  1956.0    1_27  2021-03-21 02:50:16.551727     s_9259   \n",
       "...          ...  ..     ...     ...                         ...        ...   \n",
       "336808     c_999   m  1964.0   1_351  2021-11-21 17:16:06.807620   s_122996   \n",
       "336809     c_999   m  1964.0   1_727  2021-11-21 17:40:50.856434   s_122996   \n",
       "336811     c_999   m  1964.0   1_669  2022-01-16 23:40:14.387888   s_150872   \n",
       "336812     c_999   m  1964.0   1_724  2022-01-19 09:10:14.900805   s_152063   \n",
       "336813     c_999   m  1964.0   1_247  2022-01-24 09:39:50.831782   s_154462   \n",
       "\n",
       "        price  categ              previous_order  days_bw_orders  \n",
       "14      33.99    1.0  2021-11-04 18:37:48.745436            11.0  \n",
       "15      10.30    1.0  2021-11-15 20:40:00.586010             0.0  \n",
       "16      10.30    1.0  2021-11-15 20:46:25.222740            30.0  \n",
       "18      16.99    1.0  2021-12-19 02:44:12.827475             6.0  \n",
       "20      14.99    1.0                         NaN             NaN  \n",
       "...       ...    ...                         ...             ...  \n",
       "336808  28.99    1.0  2021-11-15 17:53:15.077669             5.0  \n",
       "336809  16.99    1.0  2021-11-21 17:16:06.807620             0.0  \n",
       "336811  15.99    1.0  2021-12-17 03:28:47.129085            30.0  \n",
       "336812  16.94    1.0  2022-01-16 23:40:14.387888             2.0  \n",
       "336813  20.99    1.0  2022-01-19 09:10:14.900805             5.0  \n",
       "\n",
       "[109735 rows x 10 columns]"
      ]
     },
     "execution_count": 9,
     "metadata": {},
     "output_type": "execute_result"
    }
   ],
   "source": [
    "cp= df_j[df_j['categ']== 1]\n",
    "cp"
   ]
  },
  {
   "cell_type": "code",
   "execution_count": 10,
   "metadata": {},
   "outputs": [
    {
     "name": "stderr",
     "output_type": "stream",
     "text": [
      "C:\\Users\\Nacim\\anaconda3\\lib\\site-packages\\pandas\\core\\generic.py:5303: SettingWithCopyWarning: \n",
      "A value is trying to be set on a copy of a slice from a DataFrame.\n",
      "Try using .loc[row_indexer,col_indexer] = value instead\n",
      "\n",
      "See the caveats in the documentation: https://pandas.pydata.org/pandas-docs/stable/user_guide/indexing.html#returning-a-view-versus-a-copy\n",
      "  self[name] = value\n"
     ]
    },
    {
     "data": {
      "text/html": [
       "<div>\n",
       "<style scoped>\n",
       "    .dataframe tbody tr th:only-of-type {\n",
       "        vertical-align: middle;\n",
       "    }\n",
       "\n",
       "    .dataframe tbody tr th {\n",
       "        vertical-align: top;\n",
       "    }\n",
       "\n",
       "    .dataframe thead th {\n",
       "        text-align: right;\n",
       "    }\n",
       "</style>\n",
       "<table border=\"1\" class=\"dataframe\">\n",
       "  <thead>\n",
       "    <tr style=\"text-align: right;\">\n",
       "      <th></th>\n",
       "      <th>price</th>\n",
       "      <th>categ</th>\n",
       "    </tr>\n",
       "    <tr>\n",
       "      <th>date</th>\n",
       "      <th></th>\n",
       "      <th></th>\n",
       "    </tr>\n",
       "  </thead>\n",
       "  <tbody>\n",
       "    <tr>\n",
       "      <th>2021-08-31</th>\n",
       "      <td>148635.99</td>\n",
       "      <td>3896.0</td>\n",
       "    </tr>\n",
       "    <tr>\n",
       "      <th>2021-07-31</th>\n",
       "      <td>147663.47</td>\n",
       "      <td>3956.0</td>\n",
       "    </tr>\n",
       "    <tr>\n",
       "      <th>2022-02-28</th>\n",
       "      <td>136479.72</td>\n",
       "      <td>3670.0</td>\n",
       "    </tr>\n",
       "    <tr>\n",
       "      <th>2021-05-31</th>\n",
       "      <td>127359.59</td>\n",
       "      <td>3306.0</td>\n",
       "    </tr>\n",
       "    <tr>\n",
       "      <th>2021-06-30</th>\n",
       "      <td>124209.56</td>\n",
       "      <td>3338.0</td>\n",
       "    </tr>\n",
       "    <tr>\n",
       "      <th>2021-04-30</th>\n",
       "      <td>111682.70</td>\n",
       "      <td>3002.0</td>\n",
       "    </tr>\n",
       "    <tr>\n",
       "      <th>2021-11-30</th>\n",
       "      <td>104136.00</td>\n",
       "      <td>2746.0</td>\n",
       "    </tr>\n",
       "    <tr>\n",
       "      <th>2022-01-31</th>\n",
       "      <td>102524.72</td>\n",
       "      <td>2740.0</td>\n",
       "    </tr>\n",
       "    <tr>\n",
       "      <th>2021-03-31</th>\n",
       "      <td>98771.48</td>\n",
       "      <td>2630.0</td>\n",
       "    </tr>\n",
       "    <tr>\n",
       "      <th>2021-10-31</th>\n",
       "      <td>86179.70</td>\n",
       "      <td>2320.0</td>\n",
       "    </tr>\n",
       "    <tr>\n",
       "      <th>2021-12-31</th>\n",
       "      <td>65934.49</td>\n",
       "      <td>1752.0</td>\n",
       "    </tr>\n",
       "    <tr>\n",
       "      <th>2021-09-30</th>\n",
       "      <td>65893.29</td>\n",
       "      <td>1748.0</td>\n",
       "    </tr>\n",
       "  </tbody>\n",
       "</table>\n",
       "</div>"
      ],
      "text/plain": [
       "                price   categ\n",
       "date                         \n",
       "2021-08-31  148635.99  3896.0\n",
       "2021-07-31  147663.47  3956.0\n",
       "2022-02-28  136479.72  3670.0\n",
       "2021-05-31  127359.59  3306.0\n",
       "2021-06-30  124209.56  3338.0\n",
       "2021-04-30  111682.70  3002.0\n",
       "2021-11-30  104136.00  2746.0\n",
       "2022-01-31  102524.72  2740.0\n",
       "2021-03-31   98771.48  2630.0\n",
       "2021-10-31   86179.70  2320.0\n",
       "2021-12-31   65934.49  1752.0\n",
       "2021-09-30   65893.29  1748.0"
      ]
     },
     "execution_count": 10,
     "metadata": {},
     "output_type": "execute_result"
    }
   ],
   "source": [
    "co.date = pandas.to_datetime(co.date)\n",
    "df_co = co.groupby(pandas.Grouper(key='date', freq='M')).sum() \n",
    "df_co[['price','categ']].sort_values(['price'], ascending=False)  "
   ]
  },
  {
   "cell_type": "code",
   "execution_count": 11,
   "metadata": {},
   "outputs": [
    {
     "name": "stderr",
     "output_type": "stream",
     "text": [
      "C:\\Users\\Nacim\\anaconda3\\lib\\site-packages\\pandas\\core\\generic.py:5303: SettingWithCopyWarning: \n",
      "A value is trying to be set on a copy of a slice from a DataFrame.\n",
      "Try using .loc[row_indexer,col_indexer] = value instead\n",
      "\n",
      "See the caveats in the documentation: https://pandas.pydata.org/pandas-docs/stable/user_guide/indexing.html#returning-a-view-versus-a-copy\n",
      "  self[name] = value\n"
     ]
    },
    {
     "data": {
      "text/html": [
       "<div>\n",
       "<style scoped>\n",
       "    .dataframe tbody tr th:only-of-type {\n",
       "        vertical-align: middle;\n",
       "    }\n",
       "\n",
       "    .dataframe tbody tr th {\n",
       "        vertical-align: top;\n",
       "    }\n",
       "\n",
       "    .dataframe thead th {\n",
       "        text-align: right;\n",
       "    }\n",
       "</style>\n",
       "<table border=\"1\" class=\"dataframe\">\n",
       "  <thead>\n",
       "    <tr style=\"text-align: right;\">\n",
       "      <th></th>\n",
       "      <th>price</th>\n",
       "      <th>categ</th>\n",
       "    </tr>\n",
       "    <tr>\n",
       "      <th>date</th>\n",
       "      <th></th>\n",
       "      <th></th>\n",
       "    </tr>\n",
       "  </thead>\n",
       "  <tbody>\n",
       "    <tr>\n",
       "      <th>2022-01-31</th>\n",
       "      <td>256267.92</td>\n",
       "      <td>12560.0</td>\n",
       "    </tr>\n",
       "    <tr>\n",
       "      <th>2021-11-30</th>\n",
       "      <td>252910.39</td>\n",
       "      <td>12316.0</td>\n",
       "    </tr>\n",
       "    <tr>\n",
       "      <th>2021-12-31</th>\n",
       "      <td>251026.75</td>\n",
       "      <td>12259.0</td>\n",
       "    </tr>\n",
       "    <tr>\n",
       "      <th>2022-02-28</th>\n",
       "      <td>213120.64</td>\n",
       "      <td>10459.0</td>\n",
       "    </tr>\n",
       "    <tr>\n",
       "      <th>2021-09-30</th>\n",
       "      <td>190613.78</td>\n",
       "      <td>9268.0</td>\n",
       "    </tr>\n",
       "    <tr>\n",
       "      <th>2021-06-30</th>\n",
       "      <td>189162.04</td>\n",
       "      <td>9264.0</td>\n",
       "    </tr>\n",
       "    <tr>\n",
       "      <th>2021-07-31</th>\n",
       "      <td>188523.27</td>\n",
       "      <td>9169.0</td>\n",
       "    </tr>\n",
       "    <tr>\n",
       "      <th>2021-03-31</th>\n",
       "      <td>186974.17</td>\n",
       "      <td>9134.0</td>\n",
       "    </tr>\n",
       "    <tr>\n",
       "      <th>2021-05-31</th>\n",
       "      <td>165893.40</td>\n",
       "      <td>8107.0</td>\n",
       "    </tr>\n",
       "    <tr>\n",
       "      <th>2021-08-31</th>\n",
       "      <td>162991.38</td>\n",
       "      <td>7954.0</td>\n",
       "    </tr>\n",
       "    <tr>\n",
       "      <th>2021-04-30</th>\n",
       "      <td>156138.35</td>\n",
       "      <td>7579.0</td>\n",
       "    </tr>\n",
       "    <tr>\n",
       "      <th>2021-10-31</th>\n",
       "      <td>33762.32</td>\n",
       "      <td>1666.0</td>\n",
       "    </tr>\n",
       "  </tbody>\n",
       "</table>\n",
       "</div>"
      ],
      "text/plain": [
       "                price    categ\n",
       "date                          \n",
       "2022-01-31  256267.92  12560.0\n",
       "2021-11-30  252910.39  12316.0\n",
       "2021-12-31  251026.75  12259.0\n",
       "2022-02-28  213120.64  10459.0\n",
       "2021-09-30  190613.78   9268.0\n",
       "2021-06-30  189162.04   9264.0\n",
       "2021-07-31  188523.27   9169.0\n",
       "2021-03-31  186974.17   9134.0\n",
       "2021-05-31  165893.40   8107.0\n",
       "2021-08-31  162991.38   7954.0\n",
       "2021-04-30  156138.35   7579.0\n",
       "2021-10-31   33762.32   1666.0"
      ]
     },
     "execution_count": 11,
     "metadata": {},
     "output_type": "execute_result"
    }
   ],
   "source": [
    "cp.date = pandas.to_datetime(cp.date)\n",
    "df_cp = cp.groupby(pandas.Grouper(key='date', freq='M')).sum() \n",
    "df_cp[['price','categ']].sort_values(['price'], ascending=False)  "
   ]
  },
  {
   "cell_type": "markdown",
   "metadata": {},
   "source": [
    "## Boîtes à moustaches"
   ]
  },
  {
   "cell_type": "code",
   "execution_count": 12,
   "metadata": {},
   "outputs": [
    {
     "data": {
      "image/png": "[encoded data removed]",
      "text/plain": [
       "<Figure size 360x360 with 1 Axes>"
      ]
     },
     "metadata": {
      "needs_background": "light"
     },
     "output_type": "display_data"
    }
   ],
   "source": [
    "fig= sns.catplot(x=\"categ\", y=\"price\", kind=\"box\", data=df_j)\n",
    "fig.savefig('Box.png')"
   ]
  },
  {
   "cell_type": "markdown",
   "metadata": {},
   "source": [
    "## Lorenz et un indice de Gini"
   ]
  },
  {
   "cell_type": "code",
   "execution_count": 13,
   "metadata": {},
   "outputs": [
    {
     "data": {
      "text/html": [
       "<div>\n",
       "<style scoped>\n",
       "    .dataframe tbody tr th:only-of-type {\n",
       "        vertical-align: middle;\n",
       "    }\n",
       "\n",
       "    .dataframe tbody tr th {\n",
       "        vertical-align: top;\n",
       "    }\n",
       "\n",
       "    .dataframe thead th {\n",
       "        text-align: right;\n",
       "    }\n",
       "</style>\n",
       "<table border=\"1\" class=\"dataframe\">\n",
       "  <thead>\n",
       "    <tr style=\"text-align: right;\">\n",
       "      <th></th>\n",
       "      <th>client_id</th>\n",
       "      <th>birth</th>\n",
       "      <th>sex</th>\n",
       "      <th>price</th>\n",
       "      <th>panier</th>\n",
       "    </tr>\n",
       "  </thead>\n",
       "  <tbody>\n",
       "    <tr>\n",
       "      <th>0</th>\n",
       "      <td>c_1</td>\n",
       "      <td>1955.0</td>\n",
       "      <td>m</td>\n",
       "      <td>300.65</td>\n",
       "      <td>20.0</td>\n",
       "    </tr>\n",
       "    <tr>\n",
       "      <th>1</th>\n",
       "      <td>c_10</td>\n",
       "      <td>1956.0</td>\n",
       "      <td>m</td>\n",
       "      <td>586.18</td>\n",
       "      <td>28.0</td>\n",
       "    </tr>\n",
       "    <tr>\n",
       "      <th>2</th>\n",
       "      <td>c_100</td>\n",
       "      <td>1992.0</td>\n",
       "      <td>m</td>\n",
       "      <td>222.87</td>\n",
       "      <td>6.0</td>\n",
       "    </tr>\n",
       "    <tr>\n",
       "      <th>3</th>\n",
       "      <td>c_1000</td>\n",
       "      <td>1966.0</td>\n",
       "      <td>f</td>\n",
       "      <td>980.02</td>\n",
       "      <td>56.0</td>\n",
       "    </tr>\n",
       "    <tr>\n",
       "      <th>4</th>\n",
       "      <td>c_1001</td>\n",
       "      <td>1982.0</td>\n",
       "      <td>m</td>\n",
       "      <td>1102.45</td>\n",
       "      <td>58.0</td>\n",
       "    </tr>\n",
       "    <tr>\n",
       "      <th>...</th>\n",
       "      <td>...</td>\n",
       "      <td>...</td>\n",
       "      <td>...</td>\n",
       "      <td>...</td>\n",
       "      <td>...</td>\n",
       "    </tr>\n",
       "    <tr>\n",
       "      <th>8595</th>\n",
       "      <td>c_995</td>\n",
       "      <td>1955.0</td>\n",
       "      <td>m</td>\n",
       "      <td>119.08</td>\n",
       "      <td>8.0</td>\n",
       "    </tr>\n",
       "    <tr>\n",
       "      <th>8596</th>\n",
       "      <td>c_996</td>\n",
       "      <td>1970.0</td>\n",
       "      <td>f</td>\n",
       "      <td>739.60</td>\n",
       "      <td>42.0</td>\n",
       "    </tr>\n",
       "    <tr>\n",
       "      <th>8597</th>\n",
       "      <td>c_997</td>\n",
       "      <td>1994.0</td>\n",
       "      <td>f</td>\n",
       "      <td>572.89</td>\n",
       "      <td>23.0</td>\n",
       "    </tr>\n",
       "    <tr>\n",
       "      <th>8598</th>\n",
       "      <td>c_998</td>\n",
       "      <td>2001.0</td>\n",
       "      <td>m</td>\n",
       "      <td>1527.69</td>\n",
       "      <td>28.0</td>\n",
       "    </tr>\n",
       "    <tr>\n",
       "      <th>8599</th>\n",
       "      <td>c_999</td>\n",
       "      <td>1964.0</td>\n",
       "      <td>m</td>\n",
       "      <td>305.00</td>\n",
       "      <td>22.0</td>\n",
       "    </tr>\n",
       "  </tbody>\n",
       "</table>\n",
       "<p>8600 rows × 5 columns</p>\n",
       "</div>"
      ],
      "text/plain": [
       "     client_id   birth sex    price  panier\n",
       "0          c_1  1955.0   m   300.65    20.0\n",
       "1         c_10  1956.0   m   586.18    28.0\n",
       "2        c_100  1992.0   m   222.87     6.0\n",
       "3       c_1000  1966.0   f   980.02    56.0\n",
       "4       c_1001  1982.0   m  1102.45    58.0\n",
       "...        ...     ...  ..      ...     ...\n",
       "8595     c_995  1955.0   m   119.08     8.0\n",
       "8596     c_996  1970.0   f   739.60    42.0\n",
       "8597     c_997  1994.0   f   572.89    23.0\n",
       "8598     c_998  2001.0   m  1527.69    28.0\n",
       "8599     c_999  1964.0   m   305.00    22.0\n",
       "\n",
       "[8600 rows x 5 columns]"
      ]
     },
     "execution_count": 13,
     "metadata": {},
     "output_type": "execute_result"
    }
   ],
   "source": [
    "shop = df_j.groupby(['client_id', 'birth','sex'], as_index = False).agg({'price': 'sum',\n",
    "                                                                        'categ': lambda x : x.count()})\n",
    "\n",
    "shop.rename(columns={'categ': 'panier'}, inplace= True)\n",
    "\n",
    "shop"
   ]
  },
  {
   "cell_type": "code",
   "execution_count": 14,
   "metadata": {},
   "outputs": [
    {
     "data": {
      "image/png": "[encoded data removed]",
      "text/plain": [
       "<Figure size 432x288 with 1 Axes>"
      ]
     },
     "metadata": {
      "needs_background": "light"
     },
     "output_type": "display_data"
    }
   ],
   "source": [
    "lo = shop[shop['price'] > 0]\n",
    "dep = lo['price'].values\n",
    "n = len(dep)\n",
    "lorenz = np.cumsum(np.sort(dep)) / dep.sum()\n",
    "lorenz = np.append([0],lorenz) \n",
    "\n",
    "xaxis = np.linspace(0-1/n,1+1/n,n+1) \n",
    "plt.plot(xaxis,lorenz,drawstyle='steps-post')\n",
    "plt.show()"
   ]
  },
  {
   "cell_type": "code",
   "execution_count": 15,
   "metadata": {},
   "outputs": [
    {
     "data": {
      "text/plain": [
       "0.43972595185298724"
      ]
     },
     "execution_count": 15,
     "metadata": {},
     "output_type": "execute_result"
    }
   ],
   "source": [
    "AUC = (lorenz.sum() -lorenz[-1]/2 -lorenz[0]/2)/n \n",
    "S = 0.5 - AUC \n",
    "gini = 2*S\n",
    "gini"
   ]
  },
  {
   "cell_type": "markdown",
   "metadata": {},
   "source": [
    "# Quelques questions supplémentaire"
   ]
  },
  {
   "cell_type": "markdown",
   "metadata": {},
   "source": [
    "## Y a-t-il une corrélation entre le sexe des clients et les catégories de produits achetés (Chi-2)"
   ]
  },
  {
   "cell_type": "code",
   "execution_count": 16,
   "metadata": {},
   "outputs": [
    {
     "data": {
      "text/html": [
       "<div>\n",
       "<style scoped>\n",
       "    .dataframe tbody tr th:only-of-type {\n",
       "        vertical-align: middle;\n",
       "    }\n",
       "\n",
       "    .dataframe tbody tr th {\n",
       "        vertical-align: top;\n",
       "    }\n",
       "\n",
       "    .dataframe thead th {\n",
       "        text-align: right;\n",
       "    }\n",
       "</style>\n",
       "<table border=\"1\" class=\"dataframe\">\n",
       "  <thead>\n",
       "    <tr style=\"text-align: right;\">\n",
       "      <th>categ</th>\n",
       "      <th>0.0</th>\n",
       "      <th>1.0</th>\n",
       "      <th>2.0</th>\n",
       "      <th>Total</th>\n",
       "    </tr>\n",
       "    <tr>\n",
       "      <th>sex</th>\n",
       "      <th></th>\n",
       "      <th></th>\n",
       "      <th></th>\n",
       "      <th></th>\n",
       "    </tr>\n",
       "  </thead>\n",
       "  <tbody>\n",
       "    <tr>\n",
       "      <th>f</th>\n",
       "      <td>103846</td>\n",
       "      <td>55469</td>\n",
       "      <td>8260</td>\n",
       "      <td>167575</td>\n",
       "    </tr>\n",
       "    <tr>\n",
       "      <th>m</th>\n",
       "      <td>105683</td>\n",
       "      <td>54266</td>\n",
       "      <td>9292</td>\n",
       "      <td>169241</td>\n",
       "    </tr>\n",
       "    <tr>\n",
       "      <th>Total</th>\n",
       "      <td>209529</td>\n",
       "      <td>109735</td>\n",
       "      <td>17552</td>\n",
       "      <td>336816</td>\n",
       "    </tr>\n",
       "  </tbody>\n",
       "</table>\n",
       "</div>"
      ],
      "text/plain": [
       "categ     0.0     1.0    2.0   Total\n",
       "sex                                 \n",
       "f      103846   55469   8260  167575\n",
       "m      105683   54266   9292  169241\n",
       "Total  209529  109735  17552  336816"
      ]
     },
     "execution_count": 16,
     "metadata": {},
     "output_type": "execute_result"
    }
   ],
   "source": [
    "X = \"sex\"\n",
    "Y = \"categ\"\n",
    "\n",
    "cont = df_j[[X,Y]].pivot_table(index=X,columns=Y,aggfunc=len,margins=True,margins_name=\"Total\")\n",
    "cont"
   ]
  },
  {
   "cell_type": "code",
   "execution_count": 17,
   "metadata": {},
   "outputs": [
    {
     "data": {
      "image/png": "[encoded data removed]",
      "text/plain": [
       "<Figure size 432x288 with 2 Axes>"
      ]
     },
     "metadata": {
      "needs_background": "light"
     },
     "output_type": "display_data"
    },
    {
     "data": {
      "text/plain": [
       "<Figure size 432x288 with 0 Axes>"
      ]
     },
     "metadata": {},
     "output_type": "display_data"
    }
   ],
   "source": [
    "tx = cont.loc[:,[\"Total\"]]\n",
    "ty = cont.loc[[\"Total\"],:]\n",
    "n = len(df_j)\n",
    "indep = tx.dot(ty) / n\n",
    "\n",
    "c = cont.fillna(0) \n",
    "measure = (c-indep)**2/indep\n",
    "xi_n = measure.sum().sum()\n",
    "table = measure/xi_n\n",
    "sns.heatmap(table.iloc[:-1,:-1],annot=c.iloc[:-1,:-1])\n",
    "plt.show()\n",
    "plt.savefig('CorrS_Categ.png')"
   ]
  },
  {
   "cell_type": "markdown",
   "metadata": {},
   "source": [
    "## Y a-t-il une corrélation entre l'âge des clients et le montant total des achats "
   ]
  },
  {
   "cell_type": "code",
   "execution_count": 18,
   "metadata": {},
   "outputs": [
    {
     "data": {
      "image/png": "[encoded data removed]",
      "text/plain": [
       "<Figure size 576x432 with 2 Axes>"
      ]
     },
     "metadata": {
      "needs_background": "light"
     },
     "output_type": "display_data"
    },
    {
     "data": {
      "text/plain": [
       "<Figure size 432x288 with 0 Axes>"
      ]
     },
     "metadata": {},
     "output_type": "display_data"
    }
   ],
   "source": [
    "corr_df = shop.corr(method='pearson')\n",
    "\n",
    "plt.figure(figsize=(8, 6))\n",
    "sns.heatmap(corr_df, annot=True)\n",
    "plt.show()\n",
    "plt.savefig('CorrA_Panier.png')"
   ]
  },
  {
   "cell_type": "markdown",
   "metadata": {},
   "source": [
    "## Y a-t-il une corrélation entre l'âge des clients et la fréquence d’achat"
   ]
  },
  {
   "cell_type": "code",
   "execution_count": 19,
   "metadata": {},
   "outputs": [
    {
     "data": {
      "text/html": [
       "<div>\n",
       "<style scoped>\n",
       "    .dataframe tbody tr th:only-of-type {\n",
       "        vertical-align: middle;\n",
       "    }\n",
       "\n",
       "    .dataframe tbody tr th {\n",
       "        vertical-align: top;\n",
       "    }\n",
       "\n",
       "    .dataframe thead th {\n",
       "        text-align: right;\n",
       "    }\n",
       "</style>\n",
       "<table border=\"1\" class=\"dataframe\">\n",
       "  <thead>\n",
       "    <tr style=\"text-align: right;\">\n",
       "      <th></th>\n",
       "      <th>client_id</th>\n",
       "      <th>sex</th>\n",
       "      <th>birth</th>\n",
       "      <th>id_prod</th>\n",
       "      <th>date</th>\n",
       "      <th>session_id</th>\n",
       "      <th>price</th>\n",
       "      <th>categ</th>\n",
       "      <th>previous_order</th>\n",
       "      <th>days_bw_orders</th>\n",
       "    </tr>\n",
       "  </thead>\n",
       "  <tbody>\n",
       "    <tr>\n",
       "      <th>0</th>\n",
       "      <td>c_1</td>\n",
       "      <td>m</td>\n",
       "      <td>1955.0</td>\n",
       "      <td>0_1470</td>\n",
       "      <td>2021-06-11 21:02:39.382765</td>\n",
       "      <td>s_47346</td>\n",
       "      <td>19.53</td>\n",
       "      <td>0.0</td>\n",
       "      <td>NaT</td>\n",
       "      <td>NaN</td>\n",
       "    </tr>\n",
       "    <tr>\n",
       "      <th>1</th>\n",
       "      <td>c_1</td>\n",
       "      <td>m</td>\n",
       "      <td>1955.0</td>\n",
       "      <td>0_513</td>\n",
       "      <td>2021-07-21 22:41:38.769525</td>\n",
       "      <td>s_65433</td>\n",
       "      <td>11.99</td>\n",
       "      <td>0.0</td>\n",
       "      <td>2021-06-11 21:02:39.382765</td>\n",
       "      <td>40.0</td>\n",
       "    </tr>\n",
       "    <tr>\n",
       "      <th>2</th>\n",
       "      <td>c_1</td>\n",
       "      <td>m</td>\n",
       "      <td>1955.0</td>\n",
       "      <td>0_1186</td>\n",
       "      <td>2021-07-25 12:17:34.446678</td>\n",
       "      <td>s_66947</td>\n",
       "      <td>12.30</td>\n",
       "      <td>0.0</td>\n",
       "      <td>2021-07-21 22:41:38.769525</td>\n",
       "      <td>3.0</td>\n",
       "    </tr>\n",
       "    <tr>\n",
       "      <th>3</th>\n",
       "      <td>c_1</td>\n",
       "      <td>m</td>\n",
       "      <td>1955.0</td>\n",
       "      <td>0_1448</td>\n",
       "      <td>2021-07-26 17:37:29.438136</td>\n",
       "      <td>s_67467</td>\n",
       "      <td>18.94</td>\n",
       "      <td>0.0</td>\n",
       "      <td>2021-07-25 12:17:34.446678</td>\n",
       "      <td>1.0</td>\n",
       "    </tr>\n",
       "    <tr>\n",
       "      <th>4</th>\n",
       "      <td>c_1</td>\n",
       "      <td>m</td>\n",
       "      <td>1955.0</td>\n",
       "      <td>0_1475</td>\n",
       "      <td>2021-07-27 10:30:00.293075</td>\n",
       "      <td>s_67769</td>\n",
       "      <td>11.99</td>\n",
       "      <td>0.0</td>\n",
       "      <td>2021-07-26 17:37:29.438136</td>\n",
       "      <td>0.0</td>\n",
       "    </tr>\n",
       "    <tr>\n",
       "      <th>...</th>\n",
       "      <td>...</td>\n",
       "      <td>...</td>\n",
       "      <td>...</td>\n",
       "      <td>...</td>\n",
       "      <td>...</td>\n",
       "      <td>...</td>\n",
       "      <td>...</td>\n",
       "      <td>...</td>\n",
       "      <td>...</td>\n",
       "      <td>...</td>\n",
       "    </tr>\n",
       "    <tr>\n",
       "      <th>336811</th>\n",
       "      <td>c_999</td>\n",
       "      <td>m</td>\n",
       "      <td>1964.0</td>\n",
       "      <td>1_669</td>\n",
       "      <td>2022-01-16 23:40:14.387888</td>\n",
       "      <td>s_150872</td>\n",
       "      <td>15.99</td>\n",
       "      <td>1.0</td>\n",
       "      <td>2021-12-17 03:28:47.129085</td>\n",
       "      <td>30.0</td>\n",
       "    </tr>\n",
       "    <tr>\n",
       "      <th>336812</th>\n",
       "      <td>c_999</td>\n",
       "      <td>m</td>\n",
       "      <td>1964.0</td>\n",
       "      <td>1_724</td>\n",
       "      <td>2022-01-19 09:10:14.900805</td>\n",
       "      <td>s_152063</td>\n",
       "      <td>16.94</td>\n",
       "      <td>1.0</td>\n",
       "      <td>2022-01-16 23:40:14.387888</td>\n",
       "      <td>2.0</td>\n",
       "    </tr>\n",
       "    <tr>\n",
       "      <th>336813</th>\n",
       "      <td>c_999</td>\n",
       "      <td>m</td>\n",
       "      <td>1964.0</td>\n",
       "      <td>1_247</td>\n",
       "      <td>2022-01-24 09:39:50.831782</td>\n",
       "      <td>s_154462</td>\n",
       "      <td>20.99</td>\n",
       "      <td>1.0</td>\n",
       "      <td>2022-01-19 09:10:14.900805</td>\n",
       "      <td>5.0</td>\n",
       "    </tr>\n",
       "    <tr>\n",
       "      <th>336814</th>\n",
       "      <td>c_999</td>\n",
       "      <td>m</td>\n",
       "      <td>1964.0</td>\n",
       "      <td>0_1449</td>\n",
       "      <td>2022-02-02 08:11:55.764086</td>\n",
       "      <td>s_158756</td>\n",
       "      <td>4.99</td>\n",
       "      <td>0.0</td>\n",
       "      <td>2022-01-24 09:39:50.831782</td>\n",
       "      <td>8.0</td>\n",
       "    </tr>\n",
       "    <tr>\n",
       "      <th>336815</th>\n",
       "      <td>c_999</td>\n",
       "      <td>m</td>\n",
       "      <td>1964.0</td>\n",
       "      <td>0_1342</td>\n",
       "      <td>2022-02-22 22:55:44.758949</td>\n",
       "      <td>s_169360</td>\n",
       "      <td>19.49</td>\n",
       "      <td>0.0</td>\n",
       "      <td>2022-02-02 08:11:55.764086</td>\n",
       "      <td>20.0</td>\n",
       "    </tr>\n",
       "  </tbody>\n",
       "</table>\n",
       "<p>336816 rows × 10 columns</p>\n",
       "</div>"
      ],
      "text/plain": [
       "       client_id sex   birth id_prod                       date session_id  \\\n",
       "0            c_1   m  1955.0  0_1470 2021-06-11 21:02:39.382765    s_47346   \n",
       "1            c_1   m  1955.0   0_513 2021-07-21 22:41:38.769525    s_65433   \n",
       "2            c_1   m  1955.0  0_1186 2021-07-25 12:17:34.446678    s_66947   \n",
       "3            c_1   m  1955.0  0_1448 2021-07-26 17:37:29.438136    s_67467   \n",
       "4            c_1   m  1955.0  0_1475 2021-07-27 10:30:00.293075    s_67769   \n",
       "...          ...  ..     ...     ...                        ...        ...   \n",
       "336811     c_999   m  1964.0   1_669 2022-01-16 23:40:14.387888   s_150872   \n",
       "336812     c_999   m  1964.0   1_724 2022-01-19 09:10:14.900805   s_152063   \n",
       "336813     c_999   m  1964.0   1_247 2022-01-24 09:39:50.831782   s_154462   \n",
       "336814     c_999   m  1964.0  0_1449 2022-02-02 08:11:55.764086   s_158756   \n",
       "336815     c_999   m  1964.0  0_1342 2022-02-22 22:55:44.758949   s_169360   \n",
       "\n",
       "        price  categ             previous_order  days_bw_orders  \n",
       "0       19.53    0.0                        NaT             NaN  \n",
       "1       11.99    0.0 2021-06-11 21:02:39.382765            40.0  \n",
       "2       12.30    0.0 2021-07-21 22:41:38.769525             3.0  \n",
       "3       18.94    0.0 2021-07-25 12:17:34.446678             1.0  \n",
       "4       11.99    0.0 2021-07-26 17:37:29.438136             0.0  \n",
       "...       ...    ...                        ...             ...  \n",
       "336811  15.99    1.0 2021-12-17 03:28:47.129085            30.0  \n",
       "336812  16.94    1.0 2022-01-16 23:40:14.387888             2.0  \n",
       "336813  20.99    1.0 2022-01-19 09:10:14.900805             5.0  \n",
       "336814   4.99    0.0 2022-01-24 09:39:50.831782             8.0  \n",
       "336815  19.49    0.0 2022-02-02 08:11:55.764086            20.0  \n",
       "\n",
       "[336816 rows x 10 columns]"
      ]
     },
     "execution_count": 19,
     "metadata": {},
     "output_type": "execute_result"
    }
   ],
   "source": [
    "df_j.date = pandas.to_datetime(df_j.date)\n",
    "df_j = df_j.sort_values(['client_id', 'date'])\n",
    "df_j['previous_order'] = df_j.groupby(['client_id'])['date'].shift()\n",
    "\n",
    "\n",
    "\n",
    "df_j['days_bw_orders'] = df_j['date'] - df_j['previous_order']\n",
    "\n",
    "\n",
    "df_j['days_bw_orders'] = df_j['days_bw_orders'].apply(lambda x: x.days)\n",
    "\n",
    "\n",
    "df_j.groupby('client_id')['days_bw_orders'].agg('mean')\n",
    "\n",
    "df_j['days_bw_orders'].mean()\n",
    "df_j"
   ]
  },
  {
   "cell_type": "code",
   "execution_count": 20,
   "metadata": {},
   "outputs": [
    {
     "data": {
      "text/html": [
       "<div>\n",
       "<style scoped>\n",
       "    .dataframe tbody tr th:only-of-type {\n",
       "        vertical-align: middle;\n",
       "    }\n",
       "\n",
       "    .dataframe tbody tr th {\n",
       "        vertical-align: top;\n",
       "    }\n",
       "\n",
       "    .dataframe thead th {\n",
       "        text-align: right;\n",
       "    }\n",
       "</style>\n",
       "<table border=\"1\" class=\"dataframe\">\n",
       "  <thead>\n",
       "    <tr style=\"text-align: right;\">\n",
       "      <th></th>\n",
       "      <th>client_id</th>\n",
       "      <th>birth</th>\n",
       "      <th>days_bw_orders</th>\n",
       "    </tr>\n",
       "  </thead>\n",
       "  <tbody>\n",
       "    <tr>\n",
       "      <th>0</th>\n",
       "      <td>c_1</td>\n",
       "      <td>1955.0</td>\n",
       "      <td>12.105263</td>\n",
       "    </tr>\n",
       "    <tr>\n",
       "      <th>1</th>\n",
       "      <td>c_10</td>\n",
       "      <td>1956.0</td>\n",
       "      <td>9.592593</td>\n",
       "    </tr>\n",
       "    <tr>\n",
       "      <th>2</th>\n",
       "      <td>c_100</td>\n",
       "      <td>1992.0</td>\n",
       "      <td>22.400000</td>\n",
       "    </tr>\n",
       "    <tr>\n",
       "      <th>3</th>\n",
       "      <td>c_1000</td>\n",
       "      <td>1966.0</td>\n",
       "      <td>6.036364</td>\n",
       "    </tr>\n",
       "    <tr>\n",
       "      <th>4</th>\n",
       "      <td>c_1001</td>\n",
       "      <td>1982.0</td>\n",
       "      <td>6.052632</td>\n",
       "    </tr>\n",
       "    <tr>\n",
       "      <th>...</th>\n",
       "      <td>...</td>\n",
       "      <td>...</td>\n",
       "      <td>...</td>\n",
       "    </tr>\n",
       "    <tr>\n",
       "      <th>8595</th>\n",
       "      <td>c_995</td>\n",
       "      <td>1955.0</td>\n",
       "      <td>29.714286</td>\n",
       "    </tr>\n",
       "    <tr>\n",
       "      <th>8596</th>\n",
       "      <td>c_996</td>\n",
       "      <td>1970.0</td>\n",
       "      <td>7.951220</td>\n",
       "    </tr>\n",
       "    <tr>\n",
       "      <th>8597</th>\n",
       "      <td>c_997</td>\n",
       "      <td>1994.0</td>\n",
       "      <td>11.136364</td>\n",
       "    </tr>\n",
       "    <tr>\n",
       "      <th>8598</th>\n",
       "      <td>c_998</td>\n",
       "      <td>2001.0</td>\n",
       "      <td>12.407407</td>\n",
       "    </tr>\n",
       "    <tr>\n",
       "      <th>8599</th>\n",
       "      <td>c_999</td>\n",
       "      <td>1964.0</td>\n",
       "      <td>10.333333</td>\n",
       "    </tr>\n",
       "  </tbody>\n",
       "</table>\n",
       "<p>8600 rows × 3 columns</p>\n",
       "</div>"
      ],
      "text/plain": [
       "     client_id   birth  days_bw_orders\n",
       "0          c_1  1955.0       12.105263\n",
       "1         c_10  1956.0        9.592593\n",
       "2        c_100  1992.0       22.400000\n",
       "3       c_1000  1966.0        6.036364\n",
       "4       c_1001  1982.0        6.052632\n",
       "...        ...     ...             ...\n",
       "8595     c_995  1955.0       29.714286\n",
       "8596     c_996  1970.0        7.951220\n",
       "8597     c_997  1994.0       11.136364\n",
       "8598     c_998  2001.0       12.407407\n",
       "8599     c_999  1964.0       10.333333\n",
       "\n",
       "[8600 rows x 3 columns]"
      ]
     },
     "execution_count": 20,
     "metadata": {},
     "output_type": "execute_result"
    }
   ],
   "source": [
    "df_jsp = df_j.groupby(['client_id', 'birth'], as_index = False).agg({'days_bw_orders': 'mean'})\n",
    "df_jsp"
   ]
  },
  {
   "cell_type": "code",
   "execution_count": 21,
   "metadata": {},
   "outputs": [
    {
     "data": {
      "image/png": "[encoded data removed]",
      "text/plain": [
       "<Figure size 576x432 with 2 Axes>"
      ]
     },
     "metadata": {
      "needs_background": "light"
     },
     "output_type": "display_data"
    }
   ],
   "source": [
    "corr_df = df_j.corr(method='pearson')\n",
    "\n",
    "plt.figure(figsize=(8, 6))\n",
    "sns.heatmap(corr_df, annot=True)\n",
    "plt.show()"
   ]
  },
  {
   "cell_type": "code",
   "execution_count": 22,
   "metadata": {},
   "outputs": [
    {
     "data": {
      "image/png": "[encoded data removed]",
      "text/plain": [
       "<Figure size 576x432 with 2 Axes>"
      ]
     },
     "metadata": {
      "needs_background": "light"
     },
     "output_type": "display_data"
    },
    {
     "data": {
      "text/plain": [
       "<Figure size 432x288 with 0 Axes>"
      ]
     },
     "metadata": {},
     "output_type": "display_data"
    }
   ],
   "source": [
    "corr_df = df_jsp.corr(method='pearson')\n",
    "\n",
    "plt.figure(figsize=(8, 6))\n",
    "sns.heatmap(corr_df, annot=True)\n",
    "plt.show()\n",
    "plt.savefig('CorrA_Freq.png')"
   ]
  },
  {
   "cell_type": "markdown",
   "metadata": {},
   "source": [
    "## Y a-t-il une corrélation entre l'âge des clients et la taille du panier moyen (en nombre d’articles)"
   ]
  },
  {
   "cell_type": "code",
   "execution_count": 23,
   "metadata": {},
   "outputs": [
    {
     "data": {
      "image/png": "[encoded data removed]",
      "text/plain": [
       "<Figure size 576x432 with 2 Axes>"
      ]
     },
     "metadata": {
      "needs_background": "light"
     },
     "output_type": "display_data"
    },
    {
     "data": {
      "text/plain": [
       "<Figure size 432x288 with 0 Axes>"
      ]
     },
     "metadata": {},
     "output_type": "display_data"
    }
   ],
   "source": [
    "corr_df = shop.corr(method='pearson')\n",
    "\n",
    "plt.figure(figsize=(8, 6))\n",
    "sns.heatmap(corr_df, annot=True)\n",
    "plt.show()\n",
    "plt.savefig('CorrA_Nshop.png')"
   ]
  },
  {
   "cell_type": "markdown",
   "metadata": {},
   "source": [
    "## Y a-t-il une corrélation entre l'âge des clients et les catégories de produits achetés"
   ]
  },
  {
   "cell_type": "code",
   "execution_count": 24,
   "metadata": {},
   "outputs": [
    {
     "data": {
      "image/png": "[encoded data removed]",
      "text/plain": [
       "<Figure size 360x360 with 1 Axes>"
      ]
     },
     "metadata": {
      "needs_background": "light"
     },
     "output_type": "display_data"
    }
   ],
   "source": [
    "fig= sns.catplot(x= \"categ\", y= \"birth\", kind=\"bar\", data= df_j)\n",
    "fig.savefig('A_Categ.png')"
   ]
  },
  {
   "cell_type": "code",
   "execution_count": 25,
   "metadata": {},
   "outputs": [
    {
     "data": {
      "image/png": "[encoded data removed]",
      "text/plain": [
       "<Figure size 432x288 with 1 Axes>"
      ]
     },
     "metadata": {
      "needs_background": "light"
     },
     "output_type": "display_data"
    },
    {
     "data": {
      "text/plain": [
       "<Figure size 432x288 with 0 Axes>"
      ]
     },
     "metadata": {},
     "output_type": "display_data"
    }
   ],
   "source": [
    "depenses = df_j\n",
    "plt.plot(depenses[\"birth\"],depenses[\"categ\"],'o',alpha=0.5)\n",
    "plt.xlabel(\"âge des clients\")\n",
    "plt.ylabel(\"catégories de produits achetés\")\n",
    "plt.show()\n",
    "plt.savefig('CorrA_Categ.png')"
   ]
  },
  {
   "cell_type": "code",
   "execution_count": 26,
   "metadata": {},
   "outputs": [
    {
     "data": {
      "image/png": "[encoded data removed]",
      "text/plain": [
       "<Figure size 576x432 with 2 Axes>"
      ]
     },
     "metadata": {
      "needs_background": "light"
     },
     "output_type": "display_data"
    },
    {
     "data": {
      "text/plain": [
       "<Figure size 432x288 with 0 Axes>"
      ]
     },
     "metadata": {},
     "output_type": "display_data"
    }
   ],
   "source": [
    "corr_df = df_j.corr(method='pearson')\n",
    "\n",
    "plt.figure(figsize=(8, 6))\n",
    "sns.heatmap(corr_df, annot=True)\n",
    "plt.show()\n",
    "plt.savefig('CorA_Categ.png')"
   ]
  },
  {
   "cell_type": "code",
   "execution_count": null,
   "metadata": {},
   "outputs": [],
   "source": []
  }
 ],
 "metadata": {
  "kernelspec": {
   "display_name": "Python 3",
   "language": "python",
   "name": "python3"
  },
  "language_info": {
   "codemirror_mode": {
    "name": "ipython",
    "version": 3
   },
   "file_extension": ".py",
   "mimetype": "text/x-python",
   "name": "python",
   "nbconvert_exporter": "python",
   "pygments_lexer": "ipython3",
   "version": "3.8.3"
  }
 },
 "nbformat": 4,
 "nbformat_minor": 4
}
